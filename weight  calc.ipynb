{
 "cells": [
  {
   "cell_type": "code",
   "execution_count": 32,
   "metadata": {},
   "outputs": [],
   "source": [
    "plates=[45, 45, 45, 45, 35, 35, 25, 25, 25, 25, 10, 10, 10, 10, 5, 5, 2.5, 2.5]"
   ]
  },
  {
   "cell_type": "code",
   "execution_count": 33,
   "metadata": {},
   "outputs": [
    {
     "data": {
      "text/plain": [
       "405.0"
      ]
     },
     "execution_count": 33,
     "metadata": {},
     "output_type": "execute_result"
    }
   ],
   "source": [
    "sum(plates)"
   ]
  },
  {
   "cell_type": "code",
   "execution_count": 62,
   "metadata": {},
   "outputs": [
    {
     "data": {
      "text/plain": [
       "450"
      ]
     },
     "execution_count": 62,
     "metadata": {},
     "output_type": "execute_result"
    }
   ],
   "source": [
    "target_weight = 450\n",
    "target_weight"
   ]
  },
  {
   "cell_type": "code",
   "execution_count": 63,
   "metadata": {},
   "outputs": [],
   "source": [
    "bar_weight= 45"
   ]
  },
  {
   "cell_type": "code",
   "execution_count": 64,
   "metadata": {},
   "outputs": [],
   "source": [
    "plate_pounds= target_weight - bar_weight"
   ]
  },
  {
   "cell_type": "code",
   "execution_count": 65,
   "metadata": {},
   "outputs": [
    {
     "data": {
      "text/plain": [
       "405.0"
      ]
     },
     "execution_count": 65,
     "metadata": {},
     "output_type": "execute_result"
    }
   ],
   "source": [
    "float(plate_pounds)"
   ]
  },
  {
   "cell_type": "code",
   "execution_count": 68,
   "metadata": {},
   "outputs": [
    {
     "data": {
      "text/plain": [
       "202.5"
      ]
     },
     "execution_count": 68,
     "metadata": {},
     "output_type": "execute_result"
    }
   ],
   "source": [
    "per_side= (plate_pounds/2)\n",
    "per_side-=per_side%2.5\n",
    "per_side"
   ]
  },
  {
   "cell_type": "code",
   "execution_count": 79,
   "metadata": {},
   "outputs": [
    {
     "name": "stdout",
     "output_type": "stream",
     "text": [
      "[45, 45, 45, 45, 10, 10, 2.5]\n",
      "450.0\n"
     ]
    }
   ],
   "source": [
    "current_weight=0\n",
    "current_plates=[]\n",
    "\n",
    "if per_side <= (sum(plates)/2) or plate_pounds< bar_weight:\n",
    "    while current_weight < per_side:\n",
    "        for plate in plates:\n",
    "            if plate<= (per_side-current_weight):\n",
    "                current_plates.append(plate)\n",
    "                current_weight+=plate\n",
    "else:\n",
    "    print('Not enough plates')\n",
    "\n",
    "print(current_plates)\n",
    "total_weight=sum(current_plates)*2 + bar_weight\n",
    "print(total_weight)\n",
    "kilos= round(total_weight * 0.45359237)\n",
    "    "
   ]
  },
  {
   "cell_type": "code",
   "execution_count": 78,
   "metadata": {},
   "outputs": [
    {
     "name": "stdout",
     "output_type": "stream",
     "text": [
      "Plates need per side are: [45, 45, 45, 45, 10, 10, 2.5]. \n",
      "Total weight is 450.0. \n",
      "Total kilos are 204.\n"
     ]
    }
   ],
   "source": [
    "print('Plates need per side are: {}. \\nTotal weight is {}. \\nTotal kilos are {}.'.format(current_plates, total_weight, kilos))"
   ]
  },
  {
   "cell_type": "code",
   "execution_count": 61,
   "metadata": {},
   "outputs": [
    {
     "name": "stdout",
     "output_type": "stream",
     "text": [
      "plate: 45 total:45\n",
      "plate: 45 total:90\n",
      "plate: 45 total:135\n",
      "plate: 45 total:180\n",
      "plate: 35 total:215\n",
      "plate: 35 total:250\n",
      "plate: 25 total:275\n",
      "plate: 25 total:300\n",
      "plate: 25 total:325\n",
      "plate: 25 total:350\n",
      "plate: 10 total:360\n",
      "plate: 10 total:370\n",
      "plate: 10 total:380\n",
      "plate: 10 total:390\n",
      "plate: 5 total:395\n",
      "plate: 5 total:400\n",
      "plate: 2.5 total:402.5\n",
      "plate: 2.5 total:405.0\n"
     ]
    }
   ],
   "source": [
    "total=0\n",
    "for plate in plates:\n",
    "    total+=plate\n",
    "    print('plate: {} total:{}'.format(plate, total))"
   ]
  },
  {
   "cell_type": "code",
   "execution_count": null,
   "metadata": {},
   "outputs": [],
   "source": []
  },
  {
   "cell_type": "code",
   "execution_count": null,
   "metadata": {},
   "outputs": [],
   "source": []
  }
 ],
 "metadata": {
  "kernelspec": {
   "display_name": "Python 3",
   "language": "python",
   "name": "python3"
  },
  "language_info": {
   "codemirror_mode": {
    "name": "ipython",
    "version": 3
   },
   "file_extension": ".py",
   "mimetype": "text/x-python",
   "name": "python",
   "nbconvert_exporter": "python",
   "pygments_lexer": "ipython3",
   "version": "3.7.6"
  }
 },
 "nbformat": 4,
 "nbformat_minor": 4
}
